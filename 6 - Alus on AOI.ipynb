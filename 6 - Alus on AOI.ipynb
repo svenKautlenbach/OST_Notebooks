{
 "cells": [
  {
   "cell_type": "markdown",
   "metadata": {},
   "source": [
    "<font face=\"Calibri\" size=\"2\"> <i>Open SAR Toolkit - Tips and Tricks, version 1.0, September 2019. Andreas Vollrath, ESA/ESRIN phi-lab</i>\n",
    "</font>"
   ]
  },
  {
   "cell_type": "markdown",
   "metadata": {},
   "source": [
    "![title](auxiliary/header_image.PNG)\n",
    "\n",
    "--------\n",
    "\n",
    "# OST usage with specified scenes processed on GPU\n",
    "\n",
    "This notebook exhibits an example how to process Sentinel 1 SLC scenes on GPU. Scenes are supplied manually - either downloaded or already present on the host\n",
    "\n",
    "--------\n",
    "\n",
    "**Short description**\n",
    "\n",
    "This notebook shows some low level functionality of OST with ALUS binaries that facilitate processing on GPU. \n",
    "\n",
    "- **1:** Create a squared AOI from Lat/Lon point coordinates\n",
    "- **2:** Specify working directories\n",
    "- **3:** Download scenes from archive\n",
    "- **4:** Specify workflow/algorithm and options\n",
    "- **5:** Run processing\n",
    "--------"
   ]
  },
  {
   "cell_type": "markdown",
   "metadata": {},
   "source": [
    "### 1 - Create a squared AOI from Lat/Lon point coordinates\n",
    "\n",
    "In case you do not have a shapefile of your Area Of Interest (AOI), but rather want to define it by Latitude and Longitude, considering a buffer, there is a helper function that let you do exactly this.\n",
    "\n",
    "**Note** that there are 2 buffer options, in meter and in degree, respectively. The buffer in meter does the transform from Lat/Lon into meters based on a equidistant projection. This may result in non-sqaured rectangles towards the poles when plotting on Lat/Lon grid (see second cell)"
   ]
  },
  {
   "cell_type": "code",
   "execution_count": null,
   "metadata": {},
   "outputs": [],
   "source": [
    "# import of of vector helper functions of ost\n",
    "from ost.helpers import vector\n",
    "\n",
    "# define point by lat/lon coordinates\n",
    "lat, lon = '78', '12'\n",
    "\n",
    "# apply function with buffer in meters\n",
    "wkt1 = vector.latlon_to_wkt(lat, lon, buffer_degree=0.5, envelope=True)\n",
    "wkt2 = vector.latlon_to_wkt(lat, lon, buffer_meter=10000, envelope=True)\n",
    "print(wkt1)\n",
    "print(wkt2)"
   ]
  },
  {
   "cell_type": "code",
   "execution_count": null,
   "metadata": {},
   "outputs": [],
   "source": [
    "# we plot the wkt with geopandas and matplotlib\n",
    "import geopandas as gpd\n",
    "import matplotlib.pyplot as plt\n",
    "\n",
    "# load world borders for background\n",
    "world = gpd.read_file(gpd.datasets.get_path('naturalearth_lowres'))\n",
    "# import aoi as gdf\n",
    "aoi1 = vector.wkt_to_gdf(wkt1)\n",
    "aoi2 = vector.wkt_to_gdf(wkt2)\n",
    "# get bounds of AOI\n",
    "bounds = aoi1.geometry.bounds\n",
    "# get world map as base\n",
    "base = world.plot(color='lightgrey', edgecolor='white')\n",
    "# plot aoi\n",
    "aoi1.plot(ax=base, color='None', edgecolor='black')\n",
    "aoi2.plot(ax=base, color='None', edgecolor='red')\n",
    "\n",
    "# set bounds\n",
    "plt.xlim([bounds.minx.min()-2, bounds.maxx.max()+2])\n",
    "plt.ylim([bounds.miny.min()-2, bounds.maxy.max()+2])\n",
    "plt.grid(color='grey', linestyle='-', linewidth=0.1)"
   ]
  },
  {
   "cell_type": "markdown",
   "metadata": {},
   "source": [
    "### 2 - Specify working directories\n",
    "\n",
    "These are important since user can reuse data downloaded previously.\n",
    "\n",
    "1. Define processing folder\n",
    "\n",
    "2. Use folder which consists of predownloaded data"
   ]
  },
  {
   "cell_type": "code",
   "execution_count": 3,
   "metadata": {},
   "outputs": [],
   "source": [
    "# this imports we need to handle the folders, independent of the OS\n",
    "from pathlib import Path\n",
    "from pprint import pprint\n",
    "\n",
    "# this is the Generic class, that basically handles all the workflow from beginning to the end\n",
    "from ost import Generic\n",
    "\n",
    "#----------------------------\n",
    "# Project folder\n",
    "#----------------------------\n",
    "\n",
    "# get home folder\n",
    "home = Path.home()\n",
    "\n",
    "# create a processing directory\n",
    "project_dir = home.joinpath('OST_Tutorials', 'Tutorial_5')\n"
   ]
  },
  {
   "cell_type": "markdown",
   "metadata": {},
   "source": [
    "### 3 Download scenes from archive\n",
    "\n"
   ]
  },
  {
   "cell_type": "code",
   "execution_count": 5,
   "metadata": {},
   "outputs": [
    {
     "ename": "ImportError",
     "evalue": "cannot import name 'Sentinel1_Scene'",
     "output_type": "error",
     "traceback": [
      "\u001b[0;31m---------------------------------------------------------------------------\u001b[0m",
      "\u001b[0;31mImportError\u001b[0m                               Traceback (most recent call last)",
      "\u001b[0;32m<ipython-input-5-3f4666257dff>\u001b[0m in \u001b[0;36m<module>\u001b[0;34m\u001b[0m\n\u001b[0;32m----> 1\u001b[0;31m \u001b[0;32mfrom\u001b[0m \u001b[0most\u001b[0m \u001b[0;32mimport\u001b[0m \u001b[0mSentinel1_Scene\u001b[0m\u001b[0;34m\u001b[0m\u001b[0;34m\u001b[0m\u001b[0m\n\u001b[0m\u001b[1;32m      2\u001b[0m \u001b[0;34m\u001b[0m\u001b[0m\n\u001b[1;32m      3\u001b[0m \u001b[0ms1\u001b[0m \u001b[0;34m=\u001b[0m \u001b[0mSentinel1_Scene\u001b[0m\u001b[0;34m(\u001b[0m\u001b[0;34m'S1A_IW_SLC__1SDV_20200728T155625_20200728T155652_033657_03E699_1216'\u001b[0m\u001b[0;34m)\u001b[0m\u001b[0;34m\u001b[0m\u001b[0;34m\u001b[0m\u001b[0m\n",
      "\u001b[0;31mImportError\u001b[0m: cannot import name 'Sentinel1_Scene'"
     ]
    }
   ],
   "source": [
    "from ost import Sentinel1_Scene\n",
    "\n",
    "s1 = Sentinel1_Scene('S1A_IW_SLC__1SDV_20200728T155625_20200728T155652_033657_03E699_1216')"
   ]
  },
  {
   "cell_type": "markdown",
   "metadata": {},
   "source": [
    "\n",
    "### 4 Specify workflow/algorithm and options\n",
    "\n"
   ]
  },
  {
   "cell_type": "code",
   "execution_count": null,
   "metadata": {},
   "outputs": [],
   "source": [
    "# Alorithm options"
   ]
  },
  {
   "cell_type": "markdown",
   "metadata": {},
   "source": [
    "### 5 Run processing \n",
    "\n"
   ]
  },
  {
   "cell_type": "code",
   "execution_count": null,
   "metadata": {},
   "outputs": [],
   "source": [
    "# Running is simple probably"
   ]
  }
 ],
 "metadata": {
  "kernelspec": {
   "display_name": "Python 3",
   "language": "python",
   "name": "python3"
  },
  "language_info": {
   "codemirror_mode": {
    "name": "ipython",
    "version": 3
   },
   "file_extension": ".py",
   "mimetype": "text/x-python",
   "name": "python",
   "nbconvert_exporter": "python",
   "pygments_lexer": "ipython3",
   "version": "3.6.9"
  }
 },
 "nbformat": 4,
 "nbformat_minor": 4
}
