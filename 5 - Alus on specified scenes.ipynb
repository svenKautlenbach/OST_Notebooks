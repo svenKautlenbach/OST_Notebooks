{
 "cells": [
  {
   "cell_type": "markdown",
   "metadata": {},
   "source": [
    "<font face=\"Calibri\" size=\"2\"> <i>Open SAR Toolkit - Tips and Tricks, version 1.0, September 2019. Andreas Vollrath, ESA/ESRIN phi-lab</i>\n",
    "</font>"
   ]
  },
  {
   "cell_type": "markdown",
   "metadata": {},
   "source": [
    "![title](auxiliary/header_image.PNG)\n",
    "\n",
    "--------\n",
    "\n",
    "# OST usage with specified scenes processed on GPU\n",
    "\n",
    "This notebook exhibits an example how to process Sentinel 1 SLC scenes on GPU. Scenes and options are supplied manually via prompts\n",
    "\n",
    "--------\n",
    "\n",
    "**Short description**\n",
    "\n",
    "This notebook shows functionality of OST with ALUS binaries that facilitate processing on GPU. \n",
    "\n",
    "--------"
   ]
  },
  {
   "cell_type": "markdown",
   "metadata": {},
   "source": [
    "### 1 - Specify processing algorithm or workflow"
   ]
  },
  {
   "cell_type": "code",
   "execution_count": 22,
   "metadata": {},
   "outputs": [
    {
     "name": "stdout",
     "output_type": "stream",
     "text": [
      "There are 4 available algorithms/workflows, select one by typing a number\n",
      "1 - Coregistration\n",
      "2 - Coherence\n",
      "3 - Range Doppler Terrain Correction\n",
      "4 - Full Coherence workflow (Coregistration + Coherence + Terrain Correction)\n",
      "Selection input:4\n"
     ]
    }
   ],
   "source": [
    "print('There are 4 available algorithms/workflows, select one by typing a number')\n",
    "print('1 - Coregistration')\n",
    "print('2 - Coherence')\n",
    "print('3 - Range Doppler Terrain Correction')\n",
    "print('4 - Full Coherence workflow (Coregistration + Coherence + Terrain Correction)')\n",
    "processing_selection = input('Selection input:')\n"
   ]
  },
  {
   "cell_type": "code",
   "execution_count": 23,
   "metadata": {},
   "outputs": [
    {
     "name": "stdout",
     "output_type": "stream",
     "text": [
      "Master scene path:master\n",
      "Slave scene path:slave\n"
     ]
    }
   ],
   "source": [
    "if processing_selection == '1' or processing_selection == '4':\n",
    "    master_path = input('Master scene path:')\n",
    "    slave_path = input('Slave scene path:')\n",
    "else:\n",
    "    input_scene_path = input('Input product path:')"
   ]
  },
  {
   "cell_type": "code",
   "execution_count": 24,
   "metadata": {},
   "outputs": [
    {
     "name": "stdout",
     "output_type": "stream",
     "text": [
      "Select subswath (IW1|IW2|IW3):IW@\n",
      "Select burst nr(1-9):2\n",
      "Select polarization(VV|VH|HH|HV):VH\n"
     ]
    }
   ],
   "source": [
    "if processing_selection == '1' or processing_selection == '4':\n",
    "    subswath = input('Select subswath (IW1|IW2|IW3):')\n",
    "    burst_nr = input('Select burst nr(1-9):')\n",
    "    polarisation = input('Select polarization(VV|VH|HH|HV):')"
   ]
  },
  {
   "cell_type": "code",
   "execution_count": 25,
   "metadata": {},
   "outputs": [
    {
     "name": "stdout",
     "output_type": "stream",
     "text": [
      "Specify coherence AZ window:15\n",
      "Specify coherence RG window:100\n",
      "SRP points:501\n",
      "SRP polynomial degree:3\n",
      "Subtract flat earth(yes|no):yes\n"
     ]
    }
   ],
   "source": [
    "if processing_selection == '2' or processing_selection == '4':\n",
    "    window_az = input('Specify coherence AZ window:')\n",
    "    window_rg = input('Specify coherence RG window:')\n",
    "    srp_number_points = input('SRP points:')\n",
    "    srp_plynomial_degree = input('SRP polynomial degree:')\n",
    "    subtractflat_earth = input('Subtract flat earth(yes|no):')\n",
    "    "
   ]
  },
  {
   "cell_type": "code",
   "execution_count": 26,
   "metadata": {},
   "outputs": [
    {
     "name": "stdout",
     "output_type": "stream",
     "text": [
      "Specify AOI(WKT coordinates, leave empty for full burst):\n"
     ]
    }
   ],
   "source": [
    "aoi = input('Specify AOI(WKT coordinates, leave empty for full burst):')"
   ]
  },
  {
   "cell_type": "code",
   "execution_count": 27,
   "metadata": {},
   "outputs": [
    {
     "name": "stdout",
     "output_type": "stream",
     "text": [
      "Specify where to store results:/tmp\n"
     ]
    }
   ],
   "source": [
    "outpur_dir = input('Specify where to store results:')"
   ]
  },
  {
   "cell_type": "code",
   "execution_count": null,
   "metadata": {},
   "outputs": [],
   "source": [
    "import subprocess\n",
    "\n",
    "process = subprocess.Popen(['./coherence.sh', '/mnt/home2/sentinel1-products/alus_potion/S1A_IW_SLC__1SDV_20200728T155625_20200728T155652_033657_03E699_1216.SAFE/manifest.safe',\n",
    "                            '/mnt/home2/sentinel1-products/alus_potion/S1A_IW_SLC__1SDV_20200809T155626_20200809T155653_033832_03EC3F_9EB2.SAFE/manifest.safe',\n",
    "                            'vh', 'iw2', '3', '/tmp'],\n",
    "                     cwd='/home/sven/alus_potion',\n",
    "                     stdout=subprocess.PIPE, \n",
    "                     stderr=subprocess.PIPE,\n",
    "                     universal_newlines=True)\n",
    "\n",
    "while True:\n",
    "    output = process.stdout.read()\n",
    "    print(output.strip())\n",
    "    # Do something else\n",
    "    return_code = process.poll()\n",
    "    if return_code is not None:\n",
    "        print('RETURN CODE', return_code)\n",
    "        # Process has finished, read rest of the output \n",
    "        for output in process.stdout.readlines():\n",
    "            print(output.strip())\n",
    "        break\n",
    "#stdout, stderr = process.communicate()\n",
    "#stdout, stderr"
   ]
  },
  {
   "cell_type": "code",
   "execution_count": null,
   "metadata": {},
   "outputs": [],
   "source": []
  }
 ],
 "metadata": {
  "kernelspec": {
   "display_name": "Python 3",
   "language": "python",
   "name": "python3"
  },
  "language_info": {
   "codemirror_mode": {
    "name": "ipython",
    "version": 3
   },
   "file_extension": ".py",
   "mimetype": "text/x-python",
   "name": "python",
   "nbconvert_exporter": "python",
   "pygments_lexer": "ipython3",
   "version": "3.6.9"
  }
 },
 "nbformat": 4,
 "nbformat_minor": 4
}
