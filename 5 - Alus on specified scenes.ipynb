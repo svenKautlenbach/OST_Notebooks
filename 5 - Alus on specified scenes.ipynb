{
 "cells": [
  {
   "cell_type": "markdown",
   "metadata": {},
   "source": [
    "<font face=\"Calibri\" size=\"2\"> <i>Open SAR Toolkit - Tips and Tricks, version 1.0, September 2019. Andreas Vollrath, ESA/ESRIN phi-lab</i>\n",
    "</font>"
   ]
  },
  {
   "cell_type": "markdown",
   "metadata": {},
   "source": [
    "![title](auxiliary/header_image.PNG)\n",
    "\n",
    "--------\n",
    "\n",
    "# OST usage with specified scenes processed on GPU\n",
    "\n",
    "This notebook exhibits an example how to process Sentinel 1 SLC scenes on GPU. Scenes are supplied manually - either downloaded or already present on the host\n",
    "\n",
    "--------\n",
    "\n",
    "**Short description**\n",
    "\n",
    "This notebook shows some low level functionality of OST with ALUS binaries that facilitate processing on GPU. \n",
    "\n",
    "- **1:** Specify working directories\n",
    "- **2:** Specify input products\n",
    "- **3:** Specify workflow/algorithm and options\n",
    "- **4:** Run processing\n",
    "--------"
   ]
  },
  {
   "cell_type": "markdown",
   "metadata": {},
   "source": [
    "### 1 - Specify working directories\n",
    "\n",
    "These are important since user can reuse data downloaded previously.\n",
    "\n",
    "1. Define processing folder\n",
    "\n",
    "2. Use folder which consists of predownloaded data"
   ]
  },
  {
   "cell_type": "code",
   "execution_count": 3,
   "metadata": {},
   "outputs": [],
   "source": [
    "# this imports we need to handle the folders, independent of the OS\n",
    "from pathlib import Path\n",
    "from pprint import pprint\n",
    "\n",
    "# this is the Generic class, that basically handles all the workflow from beginning to the end\n",
    "from ost import Generic\n",
    "\n",
    "#----------------------------\n",
    "# Project folder\n",
    "#----------------------------\n",
    "\n",
    "# get home folder\n",
    "home = Path.home()\n",
    "\n",
    "# create a processing directory\n",
    "project_dir = home.joinpath('OST_Tutorials', 'Tutorial_5')\n"
   ]
  },
  {
   "cell_type": "code",
   "execution_count": 4,
   "metadata": {},
   "outputs": [
    {
     "name": "stdout",
     "output_type": "stream",
     "text": [
      " INFO (12:12:42): Checking zip file /mnt/home2/sentinel1-products/alus_potion/S1A_IW_SLC__1SDV_20200728T155625_20200728T155652_033657_03E699_1216.zip for inconsistency.\n",
      " INFO (12:13:26): Passed zip file test.\n",
      " INFO (12:13:26): Checking zip file /mnt/home2/sentinel1-products/alus_potion/S1A_IW_SLC__1SDV_20200809T155626_20200809T155653_033832_03EC3F_9EB2.zip for inconsistency.\n",
      " INFO (12:14:20): Passed zip file test.\n"
     ]
    }
   ],
   "source": [
    "from ost.s1 import download\n",
    "\n",
    "input_directory = '/mnt/home2/sentinel1-products/alus_potion'\n",
    "output_directory = '/mnt/home2/sentinel1-products/alus_potion/processed'\n",
    "# or use OST processing directory this way keep it compliant with OST structure.\n",
    "#output_directory = project_dir.joinpath('processing')\n",
    "download.restore_download_dir(input_directory, output_directory)"
   ]
  },
  {
   "cell_type": "markdown",
   "metadata": {},
   "source": [
    "### 2 Specify input products\n",
    "\n"
   ]
  },
  {
   "cell_type": "code",
   "execution_count": 5,
   "metadata": {},
   "outputs": [
    {
     "ename": "ImportError",
     "evalue": "cannot import name 'Sentinel1_Scene'",
     "output_type": "error",
     "traceback": [
      "\u001b[0;31m---------------------------------------------------------------------------\u001b[0m",
      "\u001b[0;31mImportError\u001b[0m                               Traceback (most recent call last)",
      "\u001b[0;32m<ipython-input-5-3f4666257dff>\u001b[0m in \u001b[0;36m<module>\u001b[0;34m\u001b[0m\n\u001b[0;32m----> 1\u001b[0;31m \u001b[0;32mfrom\u001b[0m \u001b[0most\u001b[0m \u001b[0;32mimport\u001b[0m \u001b[0mSentinel1_Scene\u001b[0m\u001b[0;34m\u001b[0m\u001b[0;34m\u001b[0m\u001b[0m\n\u001b[0m\u001b[1;32m      2\u001b[0m \u001b[0;34m\u001b[0m\u001b[0m\n\u001b[1;32m      3\u001b[0m \u001b[0ms1\u001b[0m \u001b[0;34m=\u001b[0m \u001b[0mSentinel1_Scene\u001b[0m\u001b[0;34m(\u001b[0m\u001b[0;34m'S1A_IW_SLC__1SDV_20200728T155625_20200728T155652_033657_03E699_1216'\u001b[0m\u001b[0;34m)\u001b[0m\u001b[0;34m\u001b[0m\u001b[0;34m\u001b[0m\u001b[0m\n",
      "\u001b[0;31mImportError\u001b[0m: cannot import name 'Sentinel1_Scene'"
     ]
    }
   ],
   "source": [
    "from ost import Sentinel1_Scene\n",
    "\n",
    "s1 = Sentinel1_Scene('S1A_IW_SLC__1SDV_20200728T155625_20200728T155652_033657_03E699_1216')"
   ]
  },
  {
   "cell_type": "markdown",
   "metadata": {},
   "source": [
    "\n",
    "### 3 Specify workflow/algorithm and options\n",
    "\n"
   ]
  },
  {
   "cell_type": "code",
   "execution_count": null,
   "metadata": {},
   "outputs": [],
   "source": [
    "# Alorithm options"
   ]
  },
  {
   "cell_type": "markdown",
   "metadata": {},
   "source": [
    "### 4 Run processing \n",
    "\n"
   ]
  },
  {
   "cell_type": "code",
   "execution_count": null,
   "metadata": {},
   "outputs": [],
   "source": [
    "# Running is simple probably"
   ]
  }
 ],
 "metadata": {
  "kernelspec": {
   "display_name": "Python 3",
   "language": "python",
   "name": "python3"
  },
  "language_info": {
   "codemirror_mode": {
    "name": "ipython",
    "version": 3
   },
   "file_extension": ".py",
   "mimetype": "text/x-python",
   "name": "python",
   "nbconvert_exporter": "python",
   "pygments_lexer": "ipython3",
   "version": "3.6.9"
  }
 },
 "nbformat": 4,
 "nbformat_minor": 4
}
