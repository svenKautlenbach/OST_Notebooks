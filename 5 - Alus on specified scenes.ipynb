{
 "cells": [
  {
   "cell_type": "markdown",
   "metadata": {},
   "source": [
    "<font face=\"Calibri\" size=\"2\"> <i>Open SAR Toolkit - Tips and Tricks, version 1.0, September 2019. Andreas Vollrath, ESA/ESRIN phi-lab</i>\n",
    "</font>"
   ]
  },
  {
   "cell_type": "markdown",
   "metadata": {},
   "source": [
    "![title](auxiliary/header_image.PNG)\n",
    "\n",
    "--------\n",
    "\n",
    "# OST usage with specified scenes processed on GPU\n",
    "\n",
    "This notebook exhibits an example how to process Sentinel 1 SLC scenes on GPU. Scenes and options are supplied manually via prompts\n",
    "\n",
    "--------\n",
    "\n",
    "**Short description**\n",
    "\n",
    "This notebook shows functionality of OST with ALUS binaries that facilitate processing on GPU. \n",
    "\n",
    "--------"
   ]
  },
  {
   "cell_type": "markdown",
   "metadata": {},
   "source": [
    "### 1 - Specify processing algorithm or workflow"
   ]
  },
  {
   "cell_type": "code",
   "execution_count": null,
   "metadata": {
    "scrolled": true
   },
   "outputs": [],
   "source": [
    "print('There are 4 available algorithms/workflows, select one by typing a number')\n",
    "print('1 - Coregistration')\n",
    "print('2 - Coherence')\n",
    "print('3 - Range Doppler Terrain Correction')\n",
    "print('4 - Full Coherence workflow (Coregistration + Coherence + Terrain Correction)')\n",
    "processing_selection = input('Selection input:')\n"
   ]
  },
  {
   "cell_type": "markdown",
   "metadata": {},
   "source": [
    "### 2 - Supply input product(s)"
   ]
  },
  {
   "cell_type": "code",
   "execution_count": null,
   "metadata": {},
   "outputs": [],
   "source": [
    "if processing_selection == '1' or processing_selection == '4':\n",
    "    master_path = input('Master scene path:')\n",
    "    slave_path = input('Slave scene path:')\n",
    "else:\n",
    "    input_scene_path = input('Input product path:')"
   ]
  },
  {
   "cell_type": "markdown",
   "metadata": {},
   "source": [
    "### 3 - Select ROI and polarisation"
   ]
  },
  {
   "cell_type": "code",
   "execution_count": null,
   "metadata": {},
   "outputs": [],
   "source": [
    "if processing_selection == '1' or processing_selection == '4':\n",
    "    subswath = input('Select subswath (IW1|IW2|IW3):')\n",
    "    burst_nr = input('Select burst nr(1-9):')\n",
    "    polarisation = input('Select polarization(VV|VH|HH|HV):')\n",
    "    \n",
    "#aoi = input('Specify AOI(WKT coordinates, leave empty for full burst):')"
   ]
  },
  {
   "cell_type": "markdown",
   "metadata": {},
   "source": [
    "### 4 - Specify algorithm parameters"
   ]
  },
  {
   "cell_type": "code",
   "execution_count": null,
   "metadata": {},
   "outputs": [],
   "source": [
    "if processing_selection == '2' or processing_selection == '4':\n",
    "    window_az = input('Specify coherence AZ window:')\n",
    "    window_rg = input('Specify coherence RG window:')\n",
    "    srp_number_points = input('SRP points:')\n",
    "    srp_plynomial_degree = input('SRP polynomial degree:')\n",
    "    subtractflat_earth = input('Subtract flat earth(yes|no):')\n",
    "    "
   ]
  },
  {
   "cell_type": "markdown",
   "metadata": {},
   "source": [
    "### 5 - Specify output directory"
   ]
  },
  {
   "cell_type": "code",
   "execution_count": null,
   "metadata": {},
   "outputs": [],
   "source": [
    "output_dir = input('Specify where to store results:')"
   ]
  },
  {
   "cell_type": "markdown",
   "metadata": {},
   "source": [
    "### 6 - Run processing"
   ]
  },
  {
   "cell_type": "code",
   "execution_count": null,
   "metadata": {},
   "outputs": [],
   "source": [
    "import subprocess\n",
    "\n",
    "process = subprocess.Popen(['./coherence.sh', master_path, slave_path, polarisation, subswath, burst_nr, output_dir],\n",
    "                     cwd='/home/sven/alus_potion',\n",
    "                     stdout=subprocess.PIPE, \n",
    "                     stderr=subprocess.PIPE,\n",
    "                     universal_newlines=True)\n",
    "\n",
    "while True:\n",
    "    output = process.stdout.readline()\n",
    "    print(output.strip())\n",
    "    # Do something else\n",
    "    return_code = process.poll()\n",
    "    if return_code is not None:\n",
    "        print('RETURN CODE', return_code)\n",
    "        # Process has finished, read rest of the output \n",
    "        for output in process.stdout.readlines():\n",
    "            print(output.strip())\n",
    "        break\n",
    "#stdout, stderr = process.communicate()\n",
    "#stdout, stderr"
   ]
  }
 ],
 "metadata": {
  "kernelspec": {
   "display_name": "Python 3",
   "language": "python",
   "name": "python3"
  },
  "language_info": {
   "codemirror_mode": {
    "name": "ipython",
    "version": 3
   },
   "file_extension": ".py",
   "mimetype": "text/x-python",
   "name": "python",
   "nbconvert_exporter": "python",
   "pygments_lexer": "ipython3",
   "version": "3.6.9"
  }
 },
 "nbformat": 4,
 "nbformat_minor": 4
}
